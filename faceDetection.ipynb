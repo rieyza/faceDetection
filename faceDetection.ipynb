{
 "cells": [
  {
   "cell_type": "code",
   "execution_count": 17,
   "metadata": {},
   "outputs": [],
   "source": [
    "import numpy as np\n",
    "import cv2\n",
    "import os\n",
    "import glob\n",
    "import shutil"
   ]
  },
  {
   "cell_type": "code",
   "execution_count": 18,
   "metadata": {},
   "outputs": [],
   "source": [
    "face_cascade =cv2.CascadeClassifier( cv2.data.haarcascades + 'haarcascade_frontalface_alt.xml')\n",
    "\n",
    "clf = cv2.face.LBPHFaceRecognizer_create()\n",
    "clf.read(\"classifier.xml\")"
   ]
  },
  {
   "cell_type": "code",
   "execution_count": 19,
   "metadata": {},
   "outputs": [],
   "source": [
    "inputFolder = \"IMAGES\"\n",
    "i = 0"
   ]
  },
  {
   "cell_type": "code",
   "execution_count": 20,
   "metadata": {},
   "outputs": [],
   "source": [
    "for img in glob.glob(inputFolder + \"/*/*.jpg\"):\n",
    "    image= cv2.imread(img)  \n",
    "    gray = cv2.cvtColor(image, cv2.COLOR_BGR2GRAY)\n",
    "        \n",
    "    faces = face_cascade.detectMultiScale(gray, 1.1 , 5)\n",
    "\n",
    "    for (x, y, w, h) in faces:\n",
    "        cv2.rectangle(image, (x, y), (x+w, y+h), (0, 0, 255), 2)\n",
    "\n",
    "        faces = gray[y:y + h, x:x + w] \n",
    "        faces = cv2.resize(faces,(160,160))\n",
    "        id, _ = clf.predict(gray[y:y+h, x:x+w])\n",
    "\n",
    "        ids = str(id)\n",
    "\n",
    "        if not os.path.exists('IMAGES-CROP/' + ids):\n",
    "            os.makedirs('IMAGES-CROP/' + ids)\n",
    "\n",
    "\n",
    "        if id==id:\n",
    "            cv2.imwrite(\"IMAGES-CROP/\" + ids + \"/\" + str(id) +\"-%i.jpg\" %i, faces)\n",
    "      \n",
    "        i += 1"
   ]
  }
 ],
 "metadata": {
  "interpreter": {
   "hash": "01a681321e4c48ecd7c487d3e14b751ffa35a1a64ccc92c0c6c08ddc679e866f"
  },
  "kernelspec": {
   "display_name": "Python 3.10.4 ('faceRecognition')",
   "language": "python",
   "name": "python3"
  },
  "language_info": {
   "codemirror_mode": {
    "name": "ipython",
    "version": 3
   },
   "file_extension": ".py",
   "mimetype": "text/x-python",
   "name": "python",
   "nbconvert_exporter": "python",
   "pygments_lexer": "ipython3",
   "version": "3.10.4"
  },
  "orig_nbformat": 4,
  "vscode": {
   "interpreter": {
    "hash": "cacabac26d5e02abebd3791f8cff05052131419c8219a2f49f4f13bd5b66df10"
   }
  }
 },
 "nbformat": 4,
 "nbformat_minor": 2
}
