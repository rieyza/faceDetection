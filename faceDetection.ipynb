{
 "cells": [
  {
   "cell_type": "code",
   "execution_count": 1,
   "metadata": {},
   "outputs": [],
   "source": [
    "import numpy as np\n",
    "import cv2\n",
    "import os\n",
    "import glob"
   ]
  },
  {
   "cell_type": "code",
   "execution_count": 2,
   "metadata": {},
   "outputs": [],
   "source": [
    "face_cascade = cv2.CascadeClassifier( cv2.data.haarcascades + 'haarcascade_frontalface_alt.xml')"
   ]
  },
  {
   "cell_type": "code",
   "execution_count": 3,
   "metadata": {},
   "outputs": [],
   "source": [
    "inputFolder = \"IMAGES/\"\n",
    "\n",
    "i = 0"
   ]
  },
  {
   "cell_type": "code",
   "execution_count": 4,
   "metadata": {},
   "outputs": [],
   "source": [
    "for img in glob.glob(inputFolder + \"/8224/*.jpg\"):\n",
    "    image= cv2.imread(img)\n",
    "    gray = cv2.cvtColor(image, cv2.COLOR_BGR2GRAY)\n",
    "    \n",
    "    faces = face_cascade.detectMultiScale(gray, 1.4, 5)\n",
    "\n",
    "    for (x, y, w, h) in faces:\n",
    "        cv2.rectangle(image, (x, y), (x+w, y+h), (0, 0, 255), 2)\n",
    "\n",
    "        faces = gray[y:y + h, x:x + w] \n",
    "        faces = cv2.resize(faces,(160,160))\n",
    "\n",
    "        cv2.imwrite('IMAGES-CROP/8224/face%04i.jpg' %i, faces)\n",
    "        i += 1"
   ]
  },
  {
   "cell_type": "code",
   "execution_count": 5,
   "metadata": {},
   "outputs": [],
   "source": [
    "for img in glob.glob(inputFolder + \"/8225/*.jpg\"):\n",
    "    image= cv2.imread(img)\n",
    "    gray = cv2.cvtColor(image, cv2.COLOR_BGR2GRAY)  \n",
    "    \n",
    "    faces = face_cascade.detectMultiScale(gray, 1.1, 5)\n",
    "\n",
    "    for (x, y, w, h) in faces:\n",
    "        cv2.rectangle(image, (x, y), (x+w, y+h), (0, 0, 255), 2)\n",
    "\n",
    "        faces = gray[y:y + h, x:x + w] \n",
    "        faces = cv2.resize(faces,(160,160))\n",
    "\n",
    "        cv2.imwrite('IMAGES-CROP/8225/face%04i.jpg' %i, faces)\n",
    "        i += 1"
   ]
  },
  {
   "cell_type": "code",
   "execution_count": 6,
   "metadata": {},
   "outputs": [],
   "source": [
    "for img in glob.glob(inputFolder + \"/8234/*.jpg\"):\n",
    "    image= cv2.imread(img)\n",
    "    gray = cv2.cvtColor(image, cv2.COLOR_BGR2GRAY)\n",
    "    \n",
    "    faces = face_cascade.detectMultiScale(gray, 1.4, 5)\n",
    "\n",
    "    for (x, y, w, h) in faces:\n",
    "        cv2.rectangle(image, (x, y), (x+w, y+h), (0, 0, 255), 2)\n",
    "\n",
    "        faces = gray[y:y + h, x:x + w] \n",
    "        faces = cv2.resize(faces,(160,160))\n",
    "\n",
    "        cv2.imwrite('IMAGES-CROP/8234/face%04i.jpg' %i, faces)\n",
    "        i += 1"
   ]
  },
  {
   "cell_type": "code",
   "execution_count": 7,
   "metadata": {},
   "outputs": [],
   "source": [
    "for img in glob.glob(inputFolder + \"/8246/*.jpg\"):\n",
    "    image= cv2.imread(img)\n",
    "    gray = cv2.cvtColor(image, cv2.COLOR_BGR2GRAY)\n",
    "    \n",
    "    faces = face_cascade.detectMultiScale(gray, 1.4, 5)\n",
    "\n",
    "    for (x, y, w, h) in faces:\n",
    "        cv2.rectangle(image, (x, y), (x+w, y+h), (0, 0, 255), 2)\n",
    "\n",
    "        faces = gray[y:y + h, x:x + w] \n",
    "        faces = cv2.resize(faces,(160,160))\n",
    "\n",
    "        cv2.imwrite('IMAGES-CROP/8246/face%04i.jpg' %i, faces)\n",
    "        i += 1"
   ]
  }
 ],
 "metadata": {
  "kernelspec": {
   "display_name": "Python 3.10.4 ('faceRecognition')",
   "language": "python",
   "name": "python3"
  },
  "language_info": {
   "codemirror_mode": {
    "name": "ipython",
    "version": 3
   },
   "file_extension": ".py",
   "mimetype": "text/x-python",
   "name": "python",
   "nbconvert_exporter": "python",
   "pygments_lexer": "ipython3",
   "version": "3.10.4"
  },
  "orig_nbformat": 4,
  "vscode": {
   "interpreter": {
    "hash": "cacabac26d5e02abebd3791f8cff05052131419c8219a2f49f4f13bd5b66df10"
   }
  }
 },
 "nbformat": 4,
 "nbformat_minor": 2
}
